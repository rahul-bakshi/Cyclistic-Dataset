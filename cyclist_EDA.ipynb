{
 "cells": [
  {
   "cell_type": "markdown",
   "id": "1c2b245f",
   "metadata": {},
   "source": [
    "# Cyclistic bike-share analysis case study"
   ]
  },
  {
   "cell_type": "code",
   "execution_count": 1,
   "id": "09b03437",
   "metadata": {},
   "outputs": [],
   "source": [
    "# Importing Libraries\n",
    "\n",
    "import numpy as np\n",
    "import pandas as pd\n",
    "import matplotlib.pyplot as plt\n",
    "import seaborn as sns\n",
    "\n",
    "%matplotlib inline"
   ]
  },
  {
   "cell_type": "code",
   "execution_count": 2,
   "id": "1f8f12ee",
   "metadata": {},
   "outputs": [],
   "source": [
    "# Importing Datasets\n",
    "\n",
    "nov_11_2020 = pd.read_csv(r'C:\\Users\\R A H U L\\Desktop\\case study cyclist\\data\\202011-divvy-tripdata.csv')\n",
    "dec_12_2020 = pd.read_csv(r'C:\\Users\\R A H U L\\Desktop\\case study cyclist\\data\\202012-divvy-tripdata.csv')\n",
    "jan_01_2021 = pd.read_csv(r'C:\\Users\\R A H U L\\Desktop\\case study cyclist\\data\\202101-divvy-tripdata.csv')\n",
    "feb_02_2021 = pd.read_csv(r'C:\\Users\\R A H U L\\Desktop\\case study cyclist\\data\\202102-divvy-tripdata.csv')\n",
    "mar_03_2021 = pd.read_csv(r'C:\\Users\\R A H U L\\Desktop\\case study cyclist\\data\\202103-divvy-tripdata.csv')\n",
    "apr_04_2021 = pd.read_csv(r'C:\\Users\\R A H U L\\Desktop\\case study cyclist\\data\\202104-divvy-tripdata.csv')\n",
    "may_05_2021 = pd.read_csv(r'C:\\Users\\R A H U L\\Desktop\\case study cyclist\\data\\202105-divvy-tripdata.csv')\n",
    "jun_06_2021 = pd.read_csv(r'C:\\Users\\R A H U L\\Desktop\\case study cyclist\\data\\202106-divvy-tripdata.csv')\n",
    "jul_07_2021 = pd.read_csv(r'C:\\Users\\R A H U L\\Desktop\\case study cyclist\\data\\202107-divvy-tripdata.csv')\n",
    "aug_08_2021 = pd.read_csv(r'C:\\Users\\R A H U L\\Desktop\\case study cyclist\\data\\202108-divvy-tripdata.csv')\n",
    "sep_09_2021 = pd.read_csv(r'C:\\Users\\R A H U L\\Desktop\\case study cyclist\\data\\202109-divvy-tripdata.csv')\n",
    "oct_10_2021 = pd.read_csv(r'C:\\Users\\R A H U L\\Desktop\\case study cyclist\\data\\202110-divvy-tripdata.csv')\n"
   ]
  },
  {
   "cell_type": "code",
   "execution_count": 3,
   "id": "c4e12fa6",
   "metadata": {},
   "outputs": [],
   "source": [
    "# Combining all datasets into a single dataframe\n",
    "\n",
    "trip_share = pd.concat([nov_11_2020, dec_12_2020, jan_01_2021, feb_02_2021, mar_03_2021, apr_04_2021, may_05_2021, jun_06_2021, jul_07_2021, aug_08_2021, sep_09_2021, oct_10_2021])"
   ]
  },
  {
   "cell_type": "code",
   "execution_count": 4,
   "id": "1c8d685d",
   "metadata": {
    "scrolled": false
   },
   "outputs": [
    {
     "data": {
      "text/html": [
       "<div>\n",
       "<style scoped>\n",
       "    .dataframe tbody tr th:only-of-type {\n",
       "        vertical-align: middle;\n",
       "    }\n",
       "\n",
       "    .dataframe tbody tr th {\n",
       "        vertical-align: top;\n",
       "    }\n",
       "\n",
       "    .dataframe thead th {\n",
       "        text-align: right;\n",
       "    }\n",
       "</style>\n",
       "<table border=\"1\" class=\"dataframe\">\n",
       "  <thead>\n",
       "    <tr style=\"text-align: right;\">\n",
       "      <th></th>\n",
       "      <th>ride_id</th>\n",
       "      <th>rideable_type</th>\n",
       "      <th>started_at</th>\n",
       "      <th>ended_at</th>\n",
       "      <th>start_station_name</th>\n",
       "      <th>start_station_id</th>\n",
       "      <th>end_station_name</th>\n",
       "      <th>end_station_id</th>\n",
       "      <th>start_lat</th>\n",
       "      <th>start_lng</th>\n",
       "      <th>end_lat</th>\n",
       "      <th>end_lng</th>\n",
       "      <th>member_casual</th>\n",
       "    </tr>\n",
       "  </thead>\n",
       "  <tbody>\n",
       "    <tr>\n",
       "      <th>0</th>\n",
       "      <td>BD0A6FF6FFF9B921</td>\n",
       "      <td>electric_bike</td>\n",
       "      <td>2020-11-01 13:36:00</td>\n",
       "      <td>2020-11-01 13:45:40</td>\n",
       "      <td>Dearborn St &amp; Erie St</td>\n",
       "      <td>110.0</td>\n",
       "      <td>St. Clair St &amp; Erie St</td>\n",
       "      <td>211.0</td>\n",
       "      <td>41.894177</td>\n",
       "      <td>-87.629127</td>\n",
       "      <td>41.894434</td>\n",
       "      <td>-87.623379</td>\n",
       "      <td>casual</td>\n",
       "    </tr>\n",
       "    <tr>\n",
       "      <th>1</th>\n",
       "      <td>96A7A7A4BDE4F82D</td>\n",
       "      <td>electric_bike</td>\n",
       "      <td>2020-11-01 10:03:26</td>\n",
       "      <td>2020-11-01 10:14:45</td>\n",
       "      <td>Franklin St &amp; Illinois St</td>\n",
       "      <td>672.0</td>\n",
       "      <td>Noble St &amp; Milwaukee Ave</td>\n",
       "      <td>29.0</td>\n",
       "      <td>41.890959</td>\n",
       "      <td>-87.635343</td>\n",
       "      <td>41.900675</td>\n",
       "      <td>-87.662480</td>\n",
       "      <td>casual</td>\n",
       "    </tr>\n",
       "    <tr>\n",
       "      <th>2</th>\n",
       "      <td>C61526D06582BDC5</td>\n",
       "      <td>electric_bike</td>\n",
       "      <td>2020-11-01 00:34:05</td>\n",
       "      <td>2020-11-01 01:03:06</td>\n",
       "      <td>Lake Shore Dr &amp; Monroe St</td>\n",
       "      <td>76.0</td>\n",
       "      <td>Federal St &amp; Polk St</td>\n",
       "      <td>41.0</td>\n",
       "      <td>41.880983</td>\n",
       "      <td>-87.616754</td>\n",
       "      <td>41.872054</td>\n",
       "      <td>-87.629550</td>\n",
       "      <td>casual</td>\n",
       "    </tr>\n",
       "    <tr>\n",
       "      <th>3</th>\n",
       "      <td>E533E89C32080B9E</td>\n",
       "      <td>electric_bike</td>\n",
       "      <td>2020-11-01 00:45:16</td>\n",
       "      <td>2020-11-01 00:54:31</td>\n",
       "      <td>Leavitt St &amp; Chicago Ave</td>\n",
       "      <td>659.0</td>\n",
       "      <td>Stave St &amp; Armitage Ave</td>\n",
       "      <td>185.0</td>\n",
       "      <td>41.895499</td>\n",
       "      <td>-87.682013</td>\n",
       "      <td>41.917744</td>\n",
       "      <td>-87.691392</td>\n",
       "      <td>casual</td>\n",
       "    </tr>\n",
       "    <tr>\n",
       "      <th>4</th>\n",
       "      <td>1C9F4EF18C168C60</td>\n",
       "      <td>electric_bike</td>\n",
       "      <td>2020-11-01 15:43:25</td>\n",
       "      <td>2020-11-01 16:16:52</td>\n",
       "      <td>Buckingham Fountain</td>\n",
       "      <td>2.0</td>\n",
       "      <td>Buckingham Fountain</td>\n",
       "      <td>2.0</td>\n",
       "      <td>41.876497</td>\n",
       "      <td>-87.620358</td>\n",
       "      <td>41.876448</td>\n",
       "      <td>-87.620338</td>\n",
       "      <td>casual</td>\n",
       "    </tr>\n",
       "    <tr>\n",
       "      <th>...</th>\n",
       "      <td>...</td>\n",
       "      <td>...</td>\n",
       "      <td>...</td>\n",
       "      <td>...</td>\n",
       "      <td>...</td>\n",
       "      <td>...</td>\n",
       "      <td>...</td>\n",
       "      <td>...</td>\n",
       "      <td>...</td>\n",
       "      <td>...</td>\n",
       "      <td>...</td>\n",
       "      <td>...</td>\n",
       "      <td>...</td>\n",
       "    </tr>\n",
       "    <tr>\n",
       "      <th>631221</th>\n",
       "      <td>BA077FDD42DABF12</td>\n",
       "      <td>classic_bike</td>\n",
       "      <td>2021-10-14 21:45:05</td>\n",
       "      <td>2021-10-14 22:07:25</td>\n",
       "      <td>Franklin St &amp; Chicago Ave</td>\n",
       "      <td>13017</td>\n",
       "      <td>Michigan Ave &amp; 14th St</td>\n",
       "      <td>TA1307000124</td>\n",
       "      <td>41.896747</td>\n",
       "      <td>-87.635668</td>\n",
       "      <td>41.864059</td>\n",
       "      <td>-87.623727</td>\n",
       "      <td>casual</td>\n",
       "    </tr>\n",
       "    <tr>\n",
       "      <th>631222</th>\n",
       "      <td>B7D99254E798AA6B</td>\n",
       "      <td>classic_bike</td>\n",
       "      <td>2021-10-02 15:28:28</td>\n",
       "      <td>2021-10-02 15:51:02</td>\n",
       "      <td>Streeter Dr &amp; Grand Ave</td>\n",
       "      <td>13022</td>\n",
       "      <td>Michigan Ave &amp; 14th St</td>\n",
       "      <td>TA1307000124</td>\n",
       "      <td>41.892278</td>\n",
       "      <td>-87.612043</td>\n",
       "      <td>41.864059</td>\n",
       "      <td>-87.623727</td>\n",
       "      <td>casual</td>\n",
       "    </tr>\n",
       "    <tr>\n",
       "      <th>631223</th>\n",
       "      <td>BCCFD66DA466400F</td>\n",
       "      <td>electric_bike</td>\n",
       "      <td>2021-10-08 16:47:10</td>\n",
       "      <td>2021-10-08 16:52:43</td>\n",
       "      <td>Calumet Ave &amp; 21st St</td>\n",
       "      <td>15546</td>\n",
       "      <td>Michigan Ave &amp; 14th St</td>\n",
       "      <td>TA1307000124</td>\n",
       "      <td>41.854055</td>\n",
       "      <td>-87.619187</td>\n",
       "      <td>41.864009</td>\n",
       "      <td>-87.623601</td>\n",
       "      <td>member</td>\n",
       "    </tr>\n",
       "    <tr>\n",
       "      <th>631224</th>\n",
       "      <td>623E0F6F50CDD6E4</td>\n",
       "      <td>classic_bike</td>\n",
       "      <td>2021-10-08 07:49:47</td>\n",
       "      <td>2021-10-08 07:55:15</td>\n",
       "      <td>Calumet Ave &amp; 21st St</td>\n",
       "      <td>15546</td>\n",
       "      <td>Michigan Ave &amp; 14th St</td>\n",
       "      <td>TA1307000124</td>\n",
       "      <td>41.854184</td>\n",
       "      <td>-87.619154</td>\n",
       "      <td>41.864059</td>\n",
       "      <td>-87.623727</td>\n",
       "      <td>member</td>\n",
       "    </tr>\n",
       "    <tr>\n",
       "      <th>631225</th>\n",
       "      <td>83FA6AC52B7B7A7B</td>\n",
       "      <td>classic_bike</td>\n",
       "      <td>2021-10-02 12:55:45</td>\n",
       "      <td>2021-10-02 13:21:10</td>\n",
       "      <td>Winthrop Ave &amp; Lawrence Ave</td>\n",
       "      <td>TA1308000021</td>\n",
       "      <td>Sheffield Ave &amp; Fullerton Ave</td>\n",
       "      <td>TA1306000016</td>\n",
       "      <td>41.968812</td>\n",
       "      <td>-87.657659</td>\n",
       "      <td>41.925602</td>\n",
       "      <td>-87.653708</td>\n",
       "      <td>member</td>\n",
       "    </tr>\n",
       "  </tbody>\n",
       "</table>\n",
       "<p>5378834 rows × 13 columns</p>\n",
       "</div>"
      ],
      "text/plain": [
       "                 ride_id  rideable_type           started_at  \\\n",
       "0       BD0A6FF6FFF9B921  electric_bike  2020-11-01 13:36:00   \n",
       "1       96A7A7A4BDE4F82D  electric_bike  2020-11-01 10:03:26   \n",
       "2       C61526D06582BDC5  electric_bike  2020-11-01 00:34:05   \n",
       "3       E533E89C32080B9E  electric_bike  2020-11-01 00:45:16   \n",
       "4       1C9F4EF18C168C60  electric_bike  2020-11-01 15:43:25   \n",
       "...                  ...            ...                  ...   \n",
       "631221  BA077FDD42DABF12   classic_bike  2021-10-14 21:45:05   \n",
       "631222  B7D99254E798AA6B   classic_bike  2021-10-02 15:28:28   \n",
       "631223  BCCFD66DA466400F  electric_bike  2021-10-08 16:47:10   \n",
       "631224  623E0F6F50CDD6E4   classic_bike  2021-10-08 07:49:47   \n",
       "631225  83FA6AC52B7B7A7B   classic_bike  2021-10-02 12:55:45   \n",
       "\n",
       "                   ended_at           start_station_name start_station_id  \\\n",
       "0       2020-11-01 13:45:40        Dearborn St & Erie St            110.0   \n",
       "1       2020-11-01 10:14:45    Franklin St & Illinois St            672.0   \n",
       "2       2020-11-01 01:03:06    Lake Shore Dr & Monroe St             76.0   \n",
       "3       2020-11-01 00:54:31     Leavitt St & Chicago Ave            659.0   \n",
       "4       2020-11-01 16:16:52          Buckingham Fountain              2.0   \n",
       "...                     ...                          ...              ...   \n",
       "631221  2021-10-14 22:07:25    Franklin St & Chicago Ave            13017   \n",
       "631222  2021-10-02 15:51:02      Streeter Dr & Grand Ave            13022   \n",
       "631223  2021-10-08 16:52:43        Calumet Ave & 21st St            15546   \n",
       "631224  2021-10-08 07:55:15        Calumet Ave & 21st St            15546   \n",
       "631225  2021-10-02 13:21:10  Winthrop Ave & Lawrence Ave     TA1308000021   \n",
       "\n",
       "                     end_station_name end_station_id  start_lat  start_lng  \\\n",
       "0              St. Clair St & Erie St          211.0  41.894177 -87.629127   \n",
       "1            Noble St & Milwaukee Ave           29.0  41.890959 -87.635343   \n",
       "2                Federal St & Polk St           41.0  41.880983 -87.616754   \n",
       "3             Stave St & Armitage Ave          185.0  41.895499 -87.682013   \n",
       "4                 Buckingham Fountain            2.0  41.876497 -87.620358   \n",
       "...                               ...            ...        ...        ...   \n",
       "631221         Michigan Ave & 14th St   TA1307000124  41.896747 -87.635668   \n",
       "631222         Michigan Ave & 14th St   TA1307000124  41.892278 -87.612043   \n",
       "631223         Michigan Ave & 14th St   TA1307000124  41.854055 -87.619187   \n",
       "631224         Michigan Ave & 14th St   TA1307000124  41.854184 -87.619154   \n",
       "631225  Sheffield Ave & Fullerton Ave   TA1306000016  41.968812 -87.657659   \n",
       "\n",
       "          end_lat    end_lng member_casual  \n",
       "0       41.894434 -87.623379        casual  \n",
       "1       41.900675 -87.662480        casual  \n",
       "2       41.872054 -87.629550        casual  \n",
       "3       41.917744 -87.691392        casual  \n",
       "4       41.876448 -87.620338        casual  \n",
       "...           ...        ...           ...  \n",
       "631221  41.864059 -87.623727        casual  \n",
       "631222  41.864059 -87.623727        casual  \n",
       "631223  41.864009 -87.623601        member  \n",
       "631224  41.864059 -87.623727        member  \n",
       "631225  41.925602 -87.653708        member  \n",
       "\n",
       "[5378834 rows x 13 columns]"
      ]
     },
     "execution_count": 4,
     "metadata": {},
     "output_type": "execute_result"
    }
   ],
   "source": [
    "trip_share"
   ]
  },
  {
   "cell_type": "code",
   "execution_count": 5,
   "id": "f43dfd23",
   "metadata": {
    "scrolled": true
   },
   "outputs": [
    {
     "name": "stdout",
     "output_type": "stream",
     "text": [
      "<class 'pandas.core.frame.DataFrame'>\n",
      "Int64Index: 5378834 entries, 0 to 631225\n",
      "Data columns (total 13 columns):\n",
      " #   Column              Dtype  \n",
      "---  ------              -----  \n",
      " 0   ride_id             object \n",
      " 1   rideable_type       object \n",
      " 2   started_at          object \n",
      " 3   ended_at            object \n",
      " 4   start_station_name  object \n",
      " 5   start_station_id    object \n",
      " 6   end_station_name    object \n",
      " 7   end_station_id      object \n",
      " 8   start_lat           float64\n",
      " 9   start_lng           float64\n",
      " 10  end_lat             float64\n",
      " 11  end_lng             float64\n",
      " 12  member_casual       object \n",
      "dtypes: float64(4), object(9)\n",
      "memory usage: 574.5+ MB\n"
     ]
    }
   ],
   "source": [
    "trip_share.info()"
   ]
  },
  {
   "cell_type": "markdown",
   "id": "6b6ff92f",
   "metadata": {},
   "source": [
    "# Data Cleaning"
   ]
  },
  {
   "cell_type": "code",
   "execution_count": 6,
   "id": "60fba15b",
   "metadata": {},
   "outputs": [],
   "source": [
    "# Handling null values"
   ]
  },
  {
   "cell_type": "code",
   "execution_count": 7,
   "id": "3d1455fd",
   "metadata": {},
   "outputs": [
    {
     "data": {
      "text/plain": [
       "ride_id                    0\n",
       "rideable_type              0\n",
       "started_at                 0\n",
       "ended_at                   0\n",
       "start_station_name    600479\n",
       "start_station_id      600586\n",
       "end_station_name      646471\n",
       "end_station_id        646548\n",
       "start_lat                  0\n",
       "start_lng                  0\n",
       "end_lat                 4831\n",
       "end_lng                 4831\n",
       "member_casual              0\n",
       "dtype: int64"
      ]
     },
     "execution_count": 7,
     "metadata": {},
     "output_type": "execute_result"
    }
   ],
   "source": [
    "trip_share.isnull().sum()"
   ]
  },
  {
   "cell_type": "code",
   "execution_count": 8,
   "id": "f5a2e263",
   "metadata": {},
   "outputs": [
    {
     "data": {
      "text/plain": [
       "(5378834, 13)"
      ]
     },
     "execution_count": 8,
     "metadata": {},
     "output_type": "execute_result"
    }
   ],
   "source": [
    "trip_share.shape"
   ]
  },
  {
   "cell_type": "code",
   "execution_count": 9,
   "id": "f04e2a8b",
   "metadata": {
    "scrolled": true
   },
   "outputs": [
    {
     "data": {
      "text/plain": [
       "ride_id                0.000000\n",
       "rideable_type          0.000000\n",
       "started_at             0.000000\n",
       "ended_at               0.000000\n",
       "start_station_name    10.463472\n",
       "start_station_id      10.465337\n",
       "end_station_name      11.264892\n",
       "end_station_id        11.266234\n",
       "start_lat              0.000000\n",
       "start_lng              0.000000\n",
       "end_lat                0.084181\n",
       "end_lng                0.084181\n",
       "member_casual          0.000000\n",
       "dtype: float64"
      ]
     },
     "execution_count": 9,
     "metadata": {},
     "output_type": "execute_result"
    }
   ],
   "source": [
    "#Percentage of null values\n",
    "\n",
    "(trip_share.isnull().sum()/5738812) * 100"
   ]
  },
  {
   "cell_type": "code",
   "execution_count": 10,
   "id": "324ba72f",
   "metadata": {},
   "outputs": [],
   "source": [
    "#Dropping Null values\n",
    "\n",
    "trip_share.dropna(axis = 0, inplace = True)"
   ]
  },
  {
   "cell_type": "code",
   "execution_count": 11,
   "id": "80115678",
   "metadata": {},
   "outputs": [
    {
     "data": {
      "text/plain": [
       "ride_id               0\n",
       "rideable_type         0\n",
       "started_at            0\n",
       "ended_at              0\n",
       "start_station_name    0\n",
       "start_station_id      0\n",
       "end_station_name      0\n",
       "end_station_id        0\n",
       "start_lat             0\n",
       "start_lng             0\n",
       "end_lat               0\n",
       "end_lng               0\n",
       "member_casual         0\n",
       "dtype: int64"
      ]
     },
     "execution_count": 11,
     "metadata": {},
     "output_type": "execute_result"
    }
   ],
   "source": [
    "trip_share.isnull().sum()"
   ]
  },
  {
   "cell_type": "code",
   "execution_count": 12,
   "id": "43da242d",
   "metadata": {},
   "outputs": [
    {
     "data": {
      "text/plain": [
       "(4492727, 13)"
      ]
     },
     "execution_count": 12,
     "metadata": {},
     "output_type": "execute_result"
    }
   ],
   "source": [
    "trip_share.shape"
   ]
  },
  {
   "cell_type": "code",
   "execution_count": 13,
   "id": "22a89b3d",
   "metadata": {
    "scrolled": true
   },
   "outputs": [
    {
     "data": {
      "text/html": [
       "<div>\n",
       "<style scoped>\n",
       "    .dataframe tbody tr th:only-of-type {\n",
       "        vertical-align: middle;\n",
       "    }\n",
       "\n",
       "    .dataframe tbody tr th {\n",
       "        vertical-align: top;\n",
       "    }\n",
       "\n",
       "    .dataframe thead th {\n",
       "        text-align: right;\n",
       "    }\n",
       "</style>\n",
       "<table border=\"1\" class=\"dataframe\">\n",
       "  <thead>\n",
       "    <tr style=\"text-align: right;\">\n",
       "      <th></th>\n",
       "      <th>ride_id</th>\n",
       "      <th>rideable_type</th>\n",
       "      <th>started_at</th>\n",
       "      <th>ended_at</th>\n",
       "      <th>start_station_name</th>\n",
       "      <th>start_station_id</th>\n",
       "      <th>end_station_name</th>\n",
       "      <th>end_station_id</th>\n",
       "      <th>start_lat</th>\n",
       "      <th>start_lng</th>\n",
       "      <th>end_lat</th>\n",
       "      <th>end_lng</th>\n",
       "      <th>member_casual</th>\n",
       "    </tr>\n",
       "  </thead>\n",
       "  <tbody>\n",
       "  </tbody>\n",
       "</table>\n",
       "</div>"
      ],
      "text/plain": [
       "Empty DataFrame\n",
       "Columns: [ride_id, rideable_type, started_at, ended_at, start_station_name, start_station_id, end_station_name, end_station_id, start_lat, start_lng, end_lat, end_lng, member_casual]\n",
       "Index: []"
      ]
     },
     "execution_count": 13,
     "metadata": {},
     "output_type": "execute_result"
    }
   ],
   "source": [
    "# Checking duplicate values\n",
    "\n",
    "trip_share[trip_share.duplicated()]"
   ]
  },
  {
   "cell_type": "code",
   "execution_count": 14,
   "id": "9996d4e7",
   "metadata": {},
   "outputs": [],
   "source": [
    "# Converting 'start_station_id' and 'end_station_id' columns into string values.\n",
    "\n",
    "trip_share['start_station_id'] = trip_share['start_station_id'].apply(str)\n",
    "trip_share['end_station_id'] = trip_share['start_station_id'].apply(str)\n"
   ]
  },
  {
   "cell_type": "code",
   "execution_count": 15,
   "id": "4be3e31f",
   "metadata": {},
   "outputs": [],
   "source": [
    "# Converting columns 'started_at' and 'ended_at' to 'datetime' datatype.\n",
    "\n",
    "trip_share['started_at'] = pd.to_datetime(trip_share['started_at'], dayfirst = True)\n",
    "trip_share['ended_at'] = pd.to_datetime(trip_share['ended_at'], dayfirst = True)"
   ]
  },
  {
   "cell_type": "code",
   "execution_count": 16,
   "id": "1f28b800",
   "metadata": {},
   "outputs": [],
   "source": [
    "# Calculating the 'Total Ride Time' in minutes."
   ]
  },
  {
   "cell_type": "code",
   "execution_count": 17,
   "id": "f656fb30",
   "metadata": {},
   "outputs": [],
   "source": [
    "import datetime as datetime\n",
    "from datetime import timedelta"
   ]
  },
  {
   "cell_type": "code",
   "execution_count": 18,
   "id": "6db24f53",
   "metadata": {},
   "outputs": [],
   "source": [
    "trip_share['ride_duration'] = trip_share['ended_at'] - trip_share['started_at']\n",
    "trip_share['ride_duration'] = (trip_share['ride_duration'])/timedelta(minutes=1)\n",
    "trip_share['ride_duration'] = trip_share['ride_duration'].round(decimals = 1)"
   ]
  },
  {
   "cell_type": "code",
   "execution_count": 19,
   "id": "115da0f9",
   "metadata": {},
   "outputs": [
    {
     "data": {
      "text/html": [
       "<div>\n",
       "<style scoped>\n",
       "    .dataframe tbody tr th:only-of-type {\n",
       "        vertical-align: middle;\n",
       "    }\n",
       "\n",
       "    .dataframe tbody tr th {\n",
       "        vertical-align: top;\n",
       "    }\n",
       "\n",
       "    .dataframe thead th {\n",
       "        text-align: right;\n",
       "    }\n",
       "</style>\n",
       "<table border=\"1\" class=\"dataframe\">\n",
       "  <thead>\n",
       "    <tr style=\"text-align: right;\">\n",
       "      <th></th>\n",
       "      <th>ride_id</th>\n",
       "      <th>rideable_type</th>\n",
       "      <th>started_at</th>\n",
       "      <th>ended_at</th>\n",
       "      <th>start_station_name</th>\n",
       "      <th>start_station_id</th>\n",
       "      <th>end_station_name</th>\n",
       "      <th>end_station_id</th>\n",
       "      <th>start_lat</th>\n",
       "      <th>start_lng</th>\n",
       "      <th>end_lat</th>\n",
       "      <th>end_lng</th>\n",
       "      <th>member_casual</th>\n",
       "      <th>ride_duration</th>\n",
       "    </tr>\n",
       "  </thead>\n",
       "  <tbody>\n",
       "    <tr>\n",
       "      <th>0</th>\n",
       "      <td>BD0A6FF6FFF9B921</td>\n",
       "      <td>electric_bike</td>\n",
       "      <td>2020-11-01 13:36:00</td>\n",
       "      <td>2020-11-01 13:45:40</td>\n",
       "      <td>Dearborn St &amp; Erie St</td>\n",
       "      <td>110.0</td>\n",
       "      <td>St. Clair St &amp; Erie St</td>\n",
       "      <td>110.0</td>\n",
       "      <td>41.894177</td>\n",
       "      <td>-87.629127</td>\n",
       "      <td>41.894434</td>\n",
       "      <td>-87.623379</td>\n",
       "      <td>casual</td>\n",
       "      <td>9.7</td>\n",
       "    </tr>\n",
       "    <tr>\n",
       "      <th>1</th>\n",
       "      <td>96A7A7A4BDE4F82D</td>\n",
       "      <td>electric_bike</td>\n",
       "      <td>2020-11-01 10:03:26</td>\n",
       "      <td>2020-11-01 10:14:45</td>\n",
       "      <td>Franklin St &amp; Illinois St</td>\n",
       "      <td>672.0</td>\n",
       "      <td>Noble St &amp; Milwaukee Ave</td>\n",
       "      <td>672.0</td>\n",
       "      <td>41.890959</td>\n",
       "      <td>-87.635343</td>\n",
       "      <td>41.900675</td>\n",
       "      <td>-87.662480</td>\n",
       "      <td>casual</td>\n",
       "      <td>11.3</td>\n",
       "    </tr>\n",
       "    <tr>\n",
       "      <th>2</th>\n",
       "      <td>C61526D06582BDC5</td>\n",
       "      <td>electric_bike</td>\n",
       "      <td>2020-11-01 00:34:05</td>\n",
       "      <td>2020-11-01 01:03:06</td>\n",
       "      <td>Lake Shore Dr &amp; Monroe St</td>\n",
       "      <td>76.0</td>\n",
       "      <td>Federal St &amp; Polk St</td>\n",
       "      <td>76.0</td>\n",
       "      <td>41.880983</td>\n",
       "      <td>-87.616754</td>\n",
       "      <td>41.872054</td>\n",
       "      <td>-87.629550</td>\n",
       "      <td>casual</td>\n",
       "      <td>29.0</td>\n",
       "    </tr>\n",
       "    <tr>\n",
       "      <th>3</th>\n",
       "      <td>E533E89C32080B9E</td>\n",
       "      <td>electric_bike</td>\n",
       "      <td>2020-11-01 00:45:16</td>\n",
       "      <td>2020-11-01 00:54:31</td>\n",
       "      <td>Leavitt St &amp; Chicago Ave</td>\n",
       "      <td>659.0</td>\n",
       "      <td>Stave St &amp; Armitage Ave</td>\n",
       "      <td>659.0</td>\n",
       "      <td>41.895499</td>\n",
       "      <td>-87.682013</td>\n",
       "      <td>41.917744</td>\n",
       "      <td>-87.691392</td>\n",
       "      <td>casual</td>\n",
       "      <td>9.2</td>\n",
       "    </tr>\n",
       "    <tr>\n",
       "      <th>4</th>\n",
       "      <td>1C9F4EF18C168C60</td>\n",
       "      <td>electric_bike</td>\n",
       "      <td>2020-11-01 15:43:25</td>\n",
       "      <td>2020-11-01 16:16:52</td>\n",
       "      <td>Buckingham Fountain</td>\n",
       "      <td>2.0</td>\n",
       "      <td>Buckingham Fountain</td>\n",
       "      <td>2.0</td>\n",
       "      <td>41.876497</td>\n",
       "      <td>-87.620358</td>\n",
       "      <td>41.876448</td>\n",
       "      <td>-87.620338</td>\n",
       "      <td>casual</td>\n",
       "      <td>33.4</td>\n",
       "    </tr>\n",
       "  </tbody>\n",
       "</table>\n",
       "</div>"
      ],
      "text/plain": [
       "            ride_id  rideable_type          started_at            ended_at  \\\n",
       "0  BD0A6FF6FFF9B921  electric_bike 2020-11-01 13:36:00 2020-11-01 13:45:40   \n",
       "1  96A7A7A4BDE4F82D  electric_bike 2020-11-01 10:03:26 2020-11-01 10:14:45   \n",
       "2  C61526D06582BDC5  electric_bike 2020-11-01 00:34:05 2020-11-01 01:03:06   \n",
       "3  E533E89C32080B9E  electric_bike 2020-11-01 00:45:16 2020-11-01 00:54:31   \n",
       "4  1C9F4EF18C168C60  electric_bike 2020-11-01 15:43:25 2020-11-01 16:16:52   \n",
       "\n",
       "          start_station_name start_station_id          end_station_name  \\\n",
       "0      Dearborn St & Erie St            110.0    St. Clair St & Erie St   \n",
       "1  Franklin St & Illinois St            672.0  Noble St & Milwaukee Ave   \n",
       "2  Lake Shore Dr & Monroe St             76.0      Federal St & Polk St   \n",
       "3   Leavitt St & Chicago Ave            659.0   Stave St & Armitage Ave   \n",
       "4        Buckingham Fountain              2.0       Buckingham Fountain   \n",
       "\n",
       "  end_station_id  start_lat  start_lng    end_lat    end_lng member_casual  \\\n",
       "0          110.0  41.894177 -87.629127  41.894434 -87.623379        casual   \n",
       "1          672.0  41.890959 -87.635343  41.900675 -87.662480        casual   \n",
       "2           76.0  41.880983 -87.616754  41.872054 -87.629550        casual   \n",
       "3          659.0  41.895499 -87.682013  41.917744 -87.691392        casual   \n",
       "4            2.0  41.876497 -87.620358  41.876448 -87.620338        casual   \n",
       "\n",
       "   ride_duration  \n",
       "0            9.7  \n",
       "1           11.3  \n",
       "2           29.0  \n",
       "3            9.2  \n",
       "4           33.4  "
      ]
     },
     "execution_count": 19,
     "metadata": {},
     "output_type": "execute_result"
    }
   ],
   "source": [
    "trip_share.head(5)"
   ]
  },
  {
   "cell_type": "code",
   "execution_count": 20,
   "id": "1c8e89ce",
   "metadata": {},
   "outputs": [
    {
     "data": {
      "image/png": "[encoded data removed]",
      "text/plain": [
       "<Figure size 576x432 with 1 Axes>"
      ]
     },
     "metadata": {
      "needs_background": "light"
     },
     "output_type": "display_data"
    }
   ],
   "source": [
    "# Distribution of ride duration\n",
    "\n",
    "plt.figure(figsize=(8,6))\n",
    "sns.barplot(x='member_casual', y='ride_duration', data=trip_share, palette='rocket')\n",
    "\n",
    "plt.xlabel(\"Membership\", fontsize = 16)\n",
    "plt.ylabel(\"Ride Duration\", fontsize = 16)\n",
    "\n",
    "plt.xticks(fontsize = 13)\n",
    "plt.yticks(fontsize = 13)\n",
    "\n",
    "plt.tight_layout()"
   ]
  },
  {
   "cell_type": "code",
   "execution_count": 21,
   "id": "bd6b68fd",
   "metadata": {},
   "outputs": [],
   "source": [
    "# We can conclude from the above observations that member riders have short journeys compared to casual ones."
   ]
  },
  {
   "cell_type": "code",
   "execution_count": null,
   "id": "88c24da4",
   "metadata": {},
   "outputs": [],
   "source": []
  },
  {
   "cell_type": "code",
   "execution_count": 22,
   "id": "8c442a93",
   "metadata": {},
   "outputs": [],
   "source": [
    "# Calculating the total distance covered by each riders from the given coordinates."
   ]
  },
  {
   "cell_type": "code",
   "execution_count": 23,
   "id": "e9e8e39e",
   "metadata": {},
   "outputs": [],
   "source": [
    "import math"
   ]
  },
  {
   "cell_type": "code",
   "execution_count": 24,
   "id": "ec1bef76",
   "metadata": {},
   "outputs": [],
   "source": [
    "trip_share['Lat'] = (trip_share['end_lat'] - trip_share['start_lat'])"
   ]
  },
  {
   "cell_type": "code",
   "execution_count": 25,
   "id": "59067a69",
   "metadata": {},
   "outputs": [],
   "source": [
    "trip_share['Lng'] = (trip_share['end_lng'] - trip_share['start_lng'])"
   ]
  },
  {
   "cell_type": "code",
   "execution_count": 26,
   "id": "c10e7e76",
   "metadata": {},
   "outputs": [],
   "source": [
    "trip_share['Distance'] = np.sqrt((trip_share['Lat']** 2) + (trip_share['Lng'] ** 2))"
   ]
  },
  {
   "cell_type": "code",
   "execution_count": 27,
   "id": "96f39e11",
   "metadata": {},
   "outputs": [],
   "source": [
    "trip_share['Distance'] = trip_share['Distance'] * 111  #parallels of latitude"
   ]
  },
  {
   "cell_type": "code",
   "execution_count": 28,
   "id": "81ebe45e",
   "metadata": {},
   "outputs": [],
   "source": [
    "trip_share['Distance'] = trip_share['Distance'].round(decimals = 2)"
   ]
  },
  {
   "cell_type": "code",
   "execution_count": 29,
   "id": "f08806eb",
   "metadata": {},
   "outputs": [
    {
     "data": {
      "text/html": [
       "<div>\n",
       "<style scoped>\n",
       "    .dataframe tbody tr th:only-of-type {\n",
       "        vertical-align: middle;\n",
       "    }\n",
       "\n",
       "    .dataframe tbody tr th {\n",
       "        vertical-align: top;\n",
       "    }\n",
       "\n",
       "    .dataframe thead th {\n",
       "        text-align: right;\n",
       "    }\n",
       "</style>\n",
       "<table border=\"1\" class=\"dataframe\">\n",
       "  <thead>\n",
       "    <tr style=\"text-align: right;\">\n",
       "      <th></th>\n",
       "      <th>ride_id</th>\n",
       "      <th>rideable_type</th>\n",
       "      <th>started_at</th>\n",
       "      <th>ended_at</th>\n",
       "      <th>start_station_name</th>\n",
       "      <th>start_station_id</th>\n",
       "      <th>end_station_name</th>\n",
       "      <th>end_station_id</th>\n",
       "      <th>start_lat</th>\n",
       "      <th>start_lng</th>\n",
       "      <th>end_lat</th>\n",
       "      <th>end_lng</th>\n",
       "      <th>member_casual</th>\n",
       "      <th>ride_duration</th>\n",
       "      <th>Lat</th>\n",
       "      <th>Lng</th>\n",
       "      <th>Distance</th>\n",
       "    </tr>\n",
       "  </thead>\n",
       "  <tbody>\n",
       "    <tr>\n",
       "      <th>0</th>\n",
       "      <td>BD0A6FF6FFF9B921</td>\n",
       "      <td>electric_bike</td>\n",
       "      <td>2020-11-01 13:36:00</td>\n",
       "      <td>2020-11-01 13:45:40</td>\n",
       "      <td>Dearborn St &amp; Erie St</td>\n",
       "      <td>110.0</td>\n",
       "      <td>St. Clair St &amp; Erie St</td>\n",
       "      <td>110.0</td>\n",
       "      <td>41.894177</td>\n",
       "      <td>-87.629127</td>\n",
       "      <td>41.894434</td>\n",
       "      <td>-87.623379</td>\n",
       "      <td>casual</td>\n",
       "      <td>9.7</td>\n",
       "      <td>0.000258</td>\n",
       "      <td>0.005748</td>\n",
       "      <td>0.64</td>\n",
       "    </tr>\n",
       "    <tr>\n",
       "      <th>1</th>\n",
       "      <td>96A7A7A4BDE4F82D</td>\n",
       "      <td>electric_bike</td>\n",
       "      <td>2020-11-01 10:03:26</td>\n",
       "      <td>2020-11-01 10:14:45</td>\n",
       "      <td>Franklin St &amp; Illinois St</td>\n",
       "      <td>672.0</td>\n",
       "      <td>Noble St &amp; Milwaukee Ave</td>\n",
       "      <td>672.0</td>\n",
       "      <td>41.890959</td>\n",
       "      <td>-87.635343</td>\n",
       "      <td>41.900675</td>\n",
       "      <td>-87.662480</td>\n",
       "      <td>casual</td>\n",
       "      <td>11.3</td>\n",
       "      <td>0.009716</td>\n",
       "      <td>-0.027137</td>\n",
       "      <td>3.20</td>\n",
       "    </tr>\n",
       "    <tr>\n",
       "      <th>2</th>\n",
       "      <td>C61526D06582BDC5</td>\n",
       "      <td>electric_bike</td>\n",
       "      <td>2020-11-01 00:34:05</td>\n",
       "      <td>2020-11-01 01:03:06</td>\n",
       "      <td>Lake Shore Dr &amp; Monroe St</td>\n",
       "      <td>76.0</td>\n",
       "      <td>Federal St &amp; Polk St</td>\n",
       "      <td>76.0</td>\n",
       "      <td>41.880983</td>\n",
       "      <td>-87.616754</td>\n",
       "      <td>41.872054</td>\n",
       "      <td>-87.629550</td>\n",
       "      <td>casual</td>\n",
       "      <td>29.0</td>\n",
       "      <td>-0.008928</td>\n",
       "      <td>-0.012796</td>\n",
       "      <td>1.73</td>\n",
       "    </tr>\n",
       "    <tr>\n",
       "      <th>3</th>\n",
       "      <td>E533E89C32080B9E</td>\n",
       "      <td>electric_bike</td>\n",
       "      <td>2020-11-01 00:45:16</td>\n",
       "      <td>2020-11-01 00:54:31</td>\n",
       "      <td>Leavitt St &amp; Chicago Ave</td>\n",
       "      <td>659.0</td>\n",
       "      <td>Stave St &amp; Armitage Ave</td>\n",
       "      <td>659.0</td>\n",
       "      <td>41.895499</td>\n",
       "      <td>-87.682013</td>\n",
       "      <td>41.917744</td>\n",
       "      <td>-87.691392</td>\n",
       "      <td>casual</td>\n",
       "      <td>9.2</td>\n",
       "      <td>0.022245</td>\n",
       "      <td>-0.009379</td>\n",
       "      <td>2.68</td>\n",
       "    </tr>\n",
       "    <tr>\n",
       "      <th>4</th>\n",
       "      <td>1C9F4EF18C168C60</td>\n",
       "      <td>electric_bike</td>\n",
       "      <td>2020-11-01 15:43:25</td>\n",
       "      <td>2020-11-01 16:16:52</td>\n",
       "      <td>Buckingham Fountain</td>\n",
       "      <td>2.0</td>\n",
       "      <td>Buckingham Fountain</td>\n",
       "      <td>2.0</td>\n",
       "      <td>41.876497</td>\n",
       "      <td>-87.620358</td>\n",
       "      <td>41.876448</td>\n",
       "      <td>-87.620338</td>\n",
       "      <td>casual</td>\n",
       "      <td>33.4</td>\n",
       "      <td>-0.000049</td>\n",
       "      <td>0.000020</td>\n",
       "      <td>0.01</td>\n",
       "    </tr>\n",
       "  </tbody>\n",
       "</table>\n",
       "</div>"
      ],
      "text/plain": [
       "            ride_id  rideable_type          started_at            ended_at  \\\n",
       "0  BD0A6FF6FFF9B921  electric_bike 2020-11-01 13:36:00 2020-11-01 13:45:40   \n",
       "1  96A7A7A4BDE4F82D  electric_bike 2020-11-01 10:03:26 2020-11-01 10:14:45   \n",
       "2  C61526D06582BDC5  electric_bike 2020-11-01 00:34:05 2020-11-01 01:03:06   \n",
       "3  E533E89C32080B9E  electric_bike 2020-11-01 00:45:16 2020-11-01 00:54:31   \n",
       "4  1C9F4EF18C168C60  electric_bike 2020-11-01 15:43:25 2020-11-01 16:16:52   \n",
       "\n",
       "          start_station_name start_station_id          end_station_name  \\\n",
       "0      Dearborn St & Erie St            110.0    St. Clair St & Erie St   \n",
       "1  Franklin St & Illinois St            672.0  Noble St & Milwaukee Ave   \n",
       "2  Lake Shore Dr & Monroe St             76.0      Federal St & Polk St   \n",
       "3   Leavitt St & Chicago Ave            659.0   Stave St & Armitage Ave   \n",
       "4        Buckingham Fountain              2.0       Buckingham Fountain   \n",
       "\n",
       "  end_station_id  start_lat  start_lng    end_lat    end_lng member_casual  \\\n",
       "0          110.0  41.894177 -87.629127  41.894434 -87.623379        casual   \n",
       "1          672.0  41.890959 -87.635343  41.900675 -87.662480        casual   \n",
       "2           76.0  41.880983 -87.616754  41.872054 -87.629550        casual   \n",
       "3          659.0  41.895499 -87.682013  41.917744 -87.691392        casual   \n",
       "4            2.0  41.876497 -87.620358  41.876448 -87.620338        casual   \n",
       "\n",
       "   ride_duration       Lat       Lng  Distance  \n",
       "0            9.7  0.000258  0.005748      0.64  \n",
       "1           11.3  0.009716 -0.027137      3.20  \n",
       "2           29.0 -0.008928 -0.012796      1.73  \n",
       "3            9.2  0.022245 -0.009379      2.68  \n",
       "4           33.4 -0.000049  0.000020      0.01  "
      ]
     },
     "execution_count": 29,
     "metadata": {},
     "output_type": "execute_result"
    }
   ],
   "source": [
    "trip_share.head()"
   ]
  },
  {
   "cell_type": "code",
   "execution_count": 30,
   "id": "29f7dcac",
   "metadata": {},
   "outputs": [
    {
     "data": {
      "image/png": "[encoded data removed]",
      "text/plain": [
       "<Figure size 576x432 with 1 Axes>"
      ]
     },
     "metadata": {
      "needs_background": "light"
     },
     "output_type": "display_data"
    }
   ],
   "source": [
    "plt.figure(figsize=(8,6))\n",
    "sns.barplot(x='member_casual', y='Distance', data=trip_share, palette='rocket')\n",
    "\n",
    "plt.xlabel(\"Membership\", fontsize = 16)\n",
    "plt.ylabel(\"Distance\", fontsize = 16)\n",
    "\n",
    "plt.xticks(fontsize = 13)\n",
    "plt.yticks(fontsize = 13)\n",
    "\n",
    "plt.tight_layout()"
   ]
  },
  {
   "cell_type": "code",
   "execution_count": 31,
   "id": "2b13a65b",
   "metadata": {},
   "outputs": [],
   "source": [
    "# ???????????????????????????   In the first plot, we observe that the member riders have travelled longer distance than the casual riders. However the second plot for 'Total Ride Time' shows casual bikers have more ride time than the member bikers."
   ]
  },
  {
   "cell_type": "code",
   "execution_count": null,
   "id": "1f486973",
   "metadata": {},
   "outputs": [],
   "source": []
  },
  {
   "cell_type": "code",
   "execution_count": 32,
   "id": "545a5c0c",
   "metadata": {},
   "outputs": [],
   "source": [
    "# Cheking unique categores under relevant columns"
   ]
  },
  {
   "cell_type": "code",
   "execution_count": 33,
   "id": "6e953543",
   "metadata": {},
   "outputs": [
    {
     "data": {
      "text/plain": [
       "array(['electric_bike', 'docked_bike', 'classic_bike'], dtype=object)"
      ]
     },
     "execution_count": 33,
     "metadata": {},
     "output_type": "execute_result"
    }
   ],
   "source": [
    "trip_share.rideable_type.unique()"
   ]
  },
  {
   "cell_type": "code",
   "execution_count": 34,
   "id": "138462e9",
   "metadata": {},
   "outputs": [
    {
     "data": {
      "text/plain": [
       "array(['casual', 'member'], dtype=object)"
      ]
     },
     "execution_count": 34,
     "metadata": {},
     "output_type": "execute_result"
    }
   ],
   "source": [
    "trip_share.member_casual.unique()"
   ]
  },
  {
   "cell_type": "code",
   "execution_count": 35,
   "id": "22eb2f81",
   "metadata": {},
   "outputs": [],
   "source": [
    "# Distribution of bike types"
   ]
  },
  {
   "cell_type": "code",
   "execution_count": 36,
   "id": "06ecb15f",
   "metadata": {},
   "outputs": [
    {
     "data": {
      "image/png": "[encoded data removed]",
      "text/plain": [
       "<Figure size 576x432 with 1 Axes>"
      ]
     },
     "metadata": {
      "needs_background": "light"
     },
     "output_type": "display_data"
    }
   ],
   "source": [
    "counts_rt = trip_share[\"rideable_type\"].value_counts()\n",
    "plt.figure(figsize=(8, 6))\n",
    "plt.bar(counts_rt.index, counts_rt.values, color=['seagreen'])\n",
    "plt.xlabel('Bike Type', fontweight ='bold', fontsize = 19)\n",
    "plt.ylabel('Count', fontweight ='bold', fontsize = 19)\n",
    "\n",
    "x = ('Classic Bike', 'Electric Bike', 'Docked Bike')\n",
    "\n",
    "plt.xticks(counts_rt.index, x, color='black', fontsize = 15)\n",
    "plt.show()"
   ]
  },
  {
   "cell_type": "code",
   "execution_count": 37,
   "id": "c7f3ef7a",
   "metadata": {},
   "outputs": [],
   "source": [
    "# We can conclude from the above observations that most riderss prefer classic bike."
   ]
  },
  {
   "cell_type": "code",
   "execution_count": null,
   "id": "0e32808e",
   "metadata": {},
   "outputs": [],
   "source": []
  },
  {
   "cell_type": "code",
   "execution_count": 38,
   "id": "58c9d1a5",
   "metadata": {},
   "outputs": [],
   "source": [
    "# Distribution of membership types"
   ]
  },
  {
   "cell_type": "code",
   "execution_count": 39,
   "id": "a8b8904d",
   "metadata": {},
   "outputs": [
    {
     "data": {
      "image/png": "[encoded data removed]",
      "text/plain": [
       "<Figure size 576x432 with 1 Axes>"
      ]
     },
     "metadata": {
      "needs_background": "light"
     },
     "output_type": "display_data"
    }
   ],
   "source": [
    "counts_mc = trip_share[\"member_casual\"].value_counts()\n",
    "plt.figure(figsize=(8, 6))\n",
    "plt.bar(counts_mc.index, counts_mc.values, color=['seagreen'])\n",
    "plt.xlabel('Membership', fontweight ='bold', fontsize = 19)\n",
    "plt.ylabel('Count', fontweight ='bold', fontsize = 19)\n",
    "\n",
    "x = ('Member', 'Casual')\n",
    "\n",
    "plt.xticks(counts_mc.index, x, color='black', fontsize = 15)\n",
    "plt.show()"
   ]
  },
  {
   "cell_type": "code",
   "execution_count": 40,
   "id": "182f0909",
   "metadata": {},
   "outputs": [],
   "source": [
    "# We can conclude from the above observations that most the riders have a membership."
   ]
  },
  {
   "cell_type": "code",
   "execution_count": null,
   "id": "a867c80d",
   "metadata": {},
   "outputs": [],
   "source": []
  },
  {
   "cell_type": "code",
   "execution_count": 41,
   "id": "20631406",
   "metadata": {},
   "outputs": [],
   "source": [
    "# Creating new columns for 'Hour', 'Day' and 'Month'.\n",
    "\n"
   ]
  },
  {
   "cell_type": "code",
   "execution_count": 42,
   "id": "b3f78e51",
   "metadata": {},
   "outputs": [],
   "source": [
    "trip_share['Hour'] = trip_share.started_at.apply(lambda x: x.hour)\n"
   ]
  },
  {
   "cell_type": "code",
   "execution_count": 43,
   "id": "5df285a3",
   "metadata": {},
   "outputs": [],
   "source": [
    "trip_share['Day'] = trip_share.started_at.apply(lambda x: x.day_name())  \n"
   ]
  },
  {
   "cell_type": "code",
   "execution_count": 44,
   "id": "4512502e",
   "metadata": {},
   "outputs": [],
   "source": [
    "trip_share['Month'] = trip_share.started_at.apply(lambda x: x.month)\n"
   ]
  },
  {
   "cell_type": "code",
   "execution_count": 45,
   "id": "f338dbd3",
   "metadata": {},
   "outputs": [
    {
     "data": {
      "text/html": [
       "<div>\n",
       "<style scoped>\n",
       "    .dataframe tbody tr th:only-of-type {\n",
       "        vertical-align: middle;\n",
       "    }\n",
       "\n",
       "    .dataframe tbody tr th {\n",
       "        vertical-align: top;\n",
       "    }\n",
       "\n",
       "    .dataframe thead th {\n",
       "        text-align: right;\n",
       "    }\n",
       "</style>\n",
       "<table border=\"1\" class=\"dataframe\">\n",
       "  <thead>\n",
       "    <tr style=\"text-align: right;\">\n",
       "      <th></th>\n",
       "      <th>ride_id</th>\n",
       "      <th>rideable_type</th>\n",
       "      <th>started_at</th>\n",
       "      <th>ended_at</th>\n",
       "      <th>start_station_name</th>\n",
       "      <th>start_station_id</th>\n",
       "      <th>end_station_name</th>\n",
       "      <th>end_station_id</th>\n",
       "      <th>start_lat</th>\n",
       "      <th>start_lng</th>\n",
       "      <th>end_lat</th>\n",
       "      <th>end_lng</th>\n",
       "      <th>member_casual</th>\n",
       "      <th>ride_duration</th>\n",
       "      <th>Lat</th>\n",
       "      <th>Lng</th>\n",
       "      <th>Distance</th>\n",
       "      <th>Hour</th>\n",
       "      <th>Day</th>\n",
       "      <th>Month</th>\n",
       "    </tr>\n",
       "  </thead>\n",
       "  <tbody>\n",
       "    <tr>\n",
       "      <th>0</th>\n",
       "      <td>BD0A6FF6FFF9B921</td>\n",
       "      <td>electric_bike</td>\n",
       "      <td>2020-11-01 13:36:00</td>\n",
       "      <td>2020-11-01 13:45:40</td>\n",
       "      <td>Dearborn St &amp; Erie St</td>\n",
       "      <td>110.0</td>\n",
       "      <td>St. Clair St &amp; Erie St</td>\n",
       "      <td>110.0</td>\n",
       "      <td>41.894177</td>\n",
       "      <td>-87.629127</td>\n",
       "      <td>41.894434</td>\n",
       "      <td>-87.623379</td>\n",
       "      <td>casual</td>\n",
       "      <td>9.7</td>\n",
       "      <td>0.000258</td>\n",
       "      <td>0.005748</td>\n",
       "      <td>0.64</td>\n",
       "      <td>13</td>\n",
       "      <td>Sunday</td>\n",
       "      <td>11</td>\n",
       "    </tr>\n",
       "    <tr>\n",
       "      <th>1</th>\n",
       "      <td>96A7A7A4BDE4F82D</td>\n",
       "      <td>electric_bike</td>\n",
       "      <td>2020-11-01 10:03:26</td>\n",
       "      <td>2020-11-01 10:14:45</td>\n",
       "      <td>Franklin St &amp; Illinois St</td>\n",
       "      <td>672.0</td>\n",
       "      <td>Noble St &amp; Milwaukee Ave</td>\n",
       "      <td>672.0</td>\n",
       "      <td>41.890959</td>\n",
       "      <td>-87.635343</td>\n",
       "      <td>41.900675</td>\n",
       "      <td>-87.662480</td>\n",
       "      <td>casual</td>\n",
       "      <td>11.3</td>\n",
       "      <td>0.009716</td>\n",
       "      <td>-0.027137</td>\n",
       "      <td>3.20</td>\n",
       "      <td>10</td>\n",
       "      <td>Sunday</td>\n",
       "      <td>11</td>\n",
       "    </tr>\n",
       "    <tr>\n",
       "      <th>2</th>\n",
       "      <td>C61526D06582BDC5</td>\n",
       "      <td>electric_bike</td>\n",
       "      <td>2020-11-01 00:34:05</td>\n",
       "      <td>2020-11-01 01:03:06</td>\n",
       "      <td>Lake Shore Dr &amp; Monroe St</td>\n",
       "      <td>76.0</td>\n",
       "      <td>Federal St &amp; Polk St</td>\n",
       "      <td>76.0</td>\n",
       "      <td>41.880983</td>\n",
       "      <td>-87.616754</td>\n",
       "      <td>41.872054</td>\n",
       "      <td>-87.629550</td>\n",
       "      <td>casual</td>\n",
       "      <td>29.0</td>\n",
       "      <td>-0.008928</td>\n",
       "      <td>-0.012796</td>\n",
       "      <td>1.73</td>\n",
       "      <td>0</td>\n",
       "      <td>Sunday</td>\n",
       "      <td>11</td>\n",
       "    </tr>\n",
       "    <tr>\n",
       "      <th>3</th>\n",
       "      <td>E533E89C32080B9E</td>\n",
       "      <td>electric_bike</td>\n",
       "      <td>2020-11-01 00:45:16</td>\n",
       "      <td>2020-11-01 00:54:31</td>\n",
       "      <td>Leavitt St &amp; Chicago Ave</td>\n",
       "      <td>659.0</td>\n",
       "      <td>Stave St &amp; Armitage Ave</td>\n",
       "      <td>659.0</td>\n",
       "      <td>41.895499</td>\n",
       "      <td>-87.682013</td>\n",
       "      <td>41.917744</td>\n",
       "      <td>-87.691392</td>\n",
       "      <td>casual</td>\n",
       "      <td>9.2</td>\n",
       "      <td>0.022245</td>\n",
       "      <td>-0.009379</td>\n",
       "      <td>2.68</td>\n",
       "      <td>0</td>\n",
       "      <td>Sunday</td>\n",
       "      <td>11</td>\n",
       "    </tr>\n",
       "    <tr>\n",
       "      <th>4</th>\n",
       "      <td>1C9F4EF18C168C60</td>\n",
       "      <td>electric_bike</td>\n",
       "      <td>2020-11-01 15:43:25</td>\n",
       "      <td>2020-11-01 16:16:52</td>\n",
       "      <td>Buckingham Fountain</td>\n",
       "      <td>2.0</td>\n",
       "      <td>Buckingham Fountain</td>\n",
       "      <td>2.0</td>\n",
       "      <td>41.876497</td>\n",
       "      <td>-87.620358</td>\n",
       "      <td>41.876448</td>\n",
       "      <td>-87.620338</td>\n",
       "      <td>casual</td>\n",
       "      <td>33.4</td>\n",
       "      <td>-0.000049</td>\n",
       "      <td>0.000020</td>\n",
       "      <td>0.01</td>\n",
       "      <td>15</td>\n",
       "      <td>Sunday</td>\n",
       "      <td>11</td>\n",
       "    </tr>\n",
       "  </tbody>\n",
       "</table>\n",
       "</div>"
      ],
      "text/plain": [
       "            ride_id  rideable_type          started_at            ended_at  \\\n",
       "0  BD0A6FF6FFF9B921  electric_bike 2020-11-01 13:36:00 2020-11-01 13:45:40   \n",
       "1  96A7A7A4BDE4F82D  electric_bike 2020-11-01 10:03:26 2020-11-01 10:14:45   \n",
       "2  C61526D06582BDC5  electric_bike 2020-11-01 00:34:05 2020-11-01 01:03:06   \n",
       "3  E533E89C32080B9E  electric_bike 2020-11-01 00:45:16 2020-11-01 00:54:31   \n",
       "4  1C9F4EF18C168C60  electric_bike 2020-11-01 15:43:25 2020-11-01 16:16:52   \n",
       "\n",
       "          start_station_name start_station_id          end_station_name  \\\n",
       "0      Dearborn St & Erie St            110.0    St. Clair St & Erie St   \n",
       "1  Franklin St & Illinois St            672.0  Noble St & Milwaukee Ave   \n",
       "2  Lake Shore Dr & Monroe St             76.0      Federal St & Polk St   \n",
       "3   Leavitt St & Chicago Ave            659.0   Stave St & Armitage Ave   \n",
       "4        Buckingham Fountain              2.0       Buckingham Fountain   \n",
       "\n",
       "  end_station_id  start_lat  start_lng    end_lat    end_lng member_casual  \\\n",
       "0          110.0  41.894177 -87.629127  41.894434 -87.623379        casual   \n",
       "1          672.0  41.890959 -87.635343  41.900675 -87.662480        casual   \n",
       "2           76.0  41.880983 -87.616754  41.872054 -87.629550        casual   \n",
       "3          659.0  41.895499 -87.682013  41.917744 -87.691392        casual   \n",
       "4            2.0  41.876497 -87.620358  41.876448 -87.620338        casual   \n",
       "\n",
       "   ride_duration       Lat       Lng  Distance  Hour     Day  Month  \n",
       "0            9.7  0.000258  0.005748      0.64    13  Sunday     11  \n",
       "1           11.3  0.009716 -0.027137      3.20    10  Sunday     11  \n",
       "2           29.0 -0.008928 -0.012796      1.73     0  Sunday     11  \n",
       "3            9.2  0.022245 -0.009379      2.68     0  Sunday     11  \n",
       "4           33.4 -0.000049  0.000020      0.01    15  Sunday     11  "
      ]
     },
     "execution_count": 45,
     "metadata": {},
     "output_type": "execute_result"
    }
   ],
   "source": [
    "trip_share.head()\n"
   ]
  },
  {
   "cell_type": "code",
   "execution_count": 46,
   "id": "190cbb12",
   "metadata": {
    "scrolled": true
   },
   "outputs": [],
   "source": [
    "days = ['Monday', 'Tuesday', 'Wednesday', 'Thursday', 'Friday', 'Saturday', 'Sunday']\n",
    "trip_share['Day'] = pd.Categorical(trip_share['Day'], categories=days, ordered=True)"
   ]
  },
  {
   "cell_type": "code",
   "execution_count": null,
   "id": "31d23688",
   "metadata": {},
   "outputs": [],
   "source": []
  },
  {
   "cell_type": "code",
   "execution_count": 47,
   "id": "68bae9c5",
   "metadata": {},
   "outputs": [],
   "source": [
    "# Distribution of monthly rides"
   ]
  },
  {
   "cell_type": "code",
   "execution_count": 48,
   "id": "9467f628",
   "metadata": {},
   "outputs": [],
   "source": [
    "month = {1:'January', 2:'February', 3:'March', 4:'April', 5:'May', 6:'June', 7:'July', 8:'August', 9:'September', 10:'October', 11:'November', 12:'December'}"
   ]
  },
  {
   "cell_type": "code",
   "execution_count": 49,
   "id": "45b80f81",
   "metadata": {
    "scrolled": true
   },
   "outputs": [],
   "source": [
    "trip_share['Month_Name'] = trip_share['Month'].map(month)"
   ]
  },
  {
   "cell_type": "code",
   "execution_count": 50,
   "id": "2e006068",
   "metadata": {},
   "outputs": [
    {
     "data": {
      "image/png": "[encoded data removed]",
      "text/plain": [
       "<Figure size 864x432 with 1 Axes>"
      ]
     },
     "metadata": {
      "needs_background": "light"
     },
     "output_type": "display_data"
    }
   ],
   "source": [
    "plt.figure(figsize=(12,6))\n",
    "\n",
    "order = ['January', 'February', 'March', 'April', 'May', 'June', 'July', 'August', 'September', 'October', 'November','December']\n",
    "x = sns.countplot(x='Month_Name', hue='member_casual', data=trip_share, palette='rocket', order=order)\n",
    "\n",
    "plt.xlabel(\"Membership\", fontsize = 16)\n",
    "plt.ylabel(\"Count\", fontsize = 16)\n",
    "\n",
    "plt.xticks(fontsize = 13, rotation = 45)\n",
    "plt.yticks(fontsize = 13)\n",
    "\n",
    "plt.tight_layout()"
   ]
  },
  {
   "cell_type": "code",
   "execution_count": 51,
   "id": "60bf2e6d",
   "metadata": {},
   "outputs": [],
   "source": [
    "# The summer months show the highest usage of bikes for both member and casual riders. \n",
    "# This can be a starting point for preparing business strategy."
   ]
  },
  {
   "cell_type": "code",
   "execution_count": null,
   "id": "69b0e1c1",
   "metadata": {},
   "outputs": [],
   "source": []
  },
  {
   "cell_type": "code",
   "execution_count": 52,
   "id": "02805343",
   "metadata": {},
   "outputs": [],
   "source": [
    "# Distribution of daily rides"
   ]
  },
  {
   "cell_type": "code",
   "execution_count": 53,
   "id": "56142c2e",
   "metadata": {},
   "outputs": [
    {
     "data": {
      "image/png": "[encoded data removed]",
      "text/plain": [
       "<Figure size 864x432 with 1 Axes>"
      ]
     },
     "metadata": {
      "needs_background": "light"
     },
     "output_type": "display_data"
    }
   ],
   "source": [
    "plt.figure(figsize=(12,6))\n",
    "\n",
    "order = ['Monday', 'Tuesday', 'Wednesday', 'Thursday', 'Friday', 'Saturday', 'Sunday']\n",
    "x = sns.countplot(x='Day', hue='member_casual', data=trip_share, palette='rocket', order=order)\n",
    "\n",
    "plt.xlabel(\"Days\", fontsize = 16)\n",
    "plt.ylabel(\"Count\", fontsize = 16)\n",
    "\n",
    "plt.xticks(fontsize = 13)\n",
    "plt.yticks(fontsize = 13)\n",
    "\n",
    "plt.tight_layout()"
   ]
  },
  {
   "cell_type": "code",
   "execution_count": 54,
   "id": "94067687",
   "metadata": {},
   "outputs": [],
   "source": [
    "# Casual riders are enthuasiatic on weekends as they have the highest bike usage on Saturday and Sunday.\n",
    "\n",
    "# Member riders have consistent use of bikes on weekdays."
   ]
  },
  {
   "cell_type": "code",
   "execution_count": null,
   "id": "eaa4ba07",
   "metadata": {},
   "outputs": [],
   "source": []
  },
  {
   "cell_type": "code",
   "execution_count": 55,
   "id": "099213e3",
   "metadata": {},
   "outputs": [],
   "source": [
    "# Distribution of hourly rides"
   ]
  },
  {
   "cell_type": "code",
   "execution_count": 56,
   "id": "0f22ac38",
   "metadata": {},
   "outputs": [
    {
     "data": {
      "image/png": "[encoded data removed]",
      "text/plain": [
       "<Figure size 864x432 with 1 Axes>"
      ]
     },
     "metadata": {
      "needs_background": "light"
     },
     "output_type": "display_data"
    }
   ],
   "source": [
    "plt.figure(figsize=(12,6))\n",
    "\n",
    "order = [i for i in range(0,24)]\n",
    "x = sns.countplot(x='Hour', hue='member_casual', data=trip_share, palette='rocket', order=order)\n",
    "\n",
    "plt.xlabel(\"Time of Day\", fontsize = 16)\n",
    "plt.ylabel(\"Count\", fontsize = 16)\n",
    "\n",
    "plt.xticks(fontsize = 13)\n",
    "plt.yticks(fontsize = 13)\n",
    "\n",
    "plt.tight_layout()"
   ]
  },
  {
   "cell_type": "code",
   "execution_count": 57,
   "id": "94dd1b3a",
   "metadata": {},
   "outputs": [],
   "source": [
    "# We can conclude from the above observations that evening hours see a lot of traffic compared to other timings. \n",
    "# This is largly because of office timings of member riders. Casual member also find evening hours productive to go for a ride.\n",
    "\n",
    "# Morning hours are busy for member riders due to working hours, which could imply that the member riders prefer taking \n",
    "# bikes for commuting to the office.\n",
    "\n",
    "# Casual members are using bikes for rides at late night somewhere around 9-11 PM."
   ]
  },
  {
   "cell_type": "code",
   "execution_count": null,
   "id": "f3bc23b0",
   "metadata": {},
   "outputs": [],
   "source": []
  },
  {
   "cell_type": "code",
   "execution_count": 58,
   "id": "5bd8e47c",
   "metadata": {},
   "outputs": [
    {
     "data": {
      "text/plain": [
       "4492727"
      ]
     },
     "execution_count": 58,
     "metadata": {},
     "output_type": "execute_result"
    }
   ],
   "source": [
    "# Unique ride strating stations\n",
    "\n",
    "count_stn = trip_share['start_station_name'].count()\n",
    "count_stn"
   ]
  },
  {
   "cell_type": "code",
   "execution_count": 59,
   "id": "5154e58d",
   "metadata": {
    "scrolled": false
   },
   "outputs": [
    {
     "data": {
      "text/html": [
       "<div>\n",
       "<style scoped>\n",
       "    .dataframe tbody tr th:only-of-type {\n",
       "        vertical-align: middle;\n",
       "    }\n",
       "\n",
       "    .dataframe tbody tr th {\n",
       "        vertical-align: top;\n",
       "    }\n",
       "\n",
       "    .dataframe thead th {\n",
       "        text-align: right;\n",
       "    }\n",
       "</style>\n",
       "<table border=\"1\" class=\"dataframe\">\n",
       "  <thead>\n",
       "    <tr style=\"text-align: right;\">\n",
       "      <th></th>\n",
       "      <th>start_station_name</th>\n",
       "      <th>ride_id</th>\n",
       "    </tr>\n",
       "  </thead>\n",
       "  <tbody>\n",
       "    <tr>\n",
       "      <th>707</th>\n",
       "      <td>Streeter Dr &amp; Grand Ave</td>\n",
       "      <td>78820</td>\n",
       "    </tr>\n",
       "    <tr>\n",
       "      <th>511</th>\n",
       "      <td>Michigan Ave &amp; Oak St</td>\n",
       "      <td>43058</td>\n",
       "    </tr>\n",
       "    <tr>\n",
       "      <th>754</th>\n",
       "      <td>Wells St &amp; Concord Ln</td>\n",
       "      <td>40717</td>\n",
       "    </tr>\n",
       "    <tr>\n",
       "      <th>517</th>\n",
       "      <td>Millennium Park</td>\n",
       "      <td>39898</td>\n",
       "    </tr>\n",
       "    <tr>\n",
       "      <th>148</th>\n",
       "      <td>Clark St &amp; Elm St</td>\n",
       "      <td>39083</td>\n",
       "    </tr>\n",
       "    <tr>\n",
       "      <th>710</th>\n",
       "      <td>Theater on the Lake</td>\n",
       "      <td>36975</td>\n",
       "    </tr>\n",
       "    <tr>\n",
       "      <th>755</th>\n",
       "      <td>Wells St &amp; Elm St</td>\n",
       "      <td>35181</td>\n",
       "    </tr>\n",
       "    <tr>\n",
       "      <th>155</th>\n",
       "      <td>Clark St &amp; Lincoln Ave</td>\n",
       "      <td>31885</td>\n",
       "    </tr>\n",
       "    <tr>\n",
       "      <th>142</th>\n",
       "      <td>Clark St &amp; Armitage Ave</td>\n",
       "      <td>31490</td>\n",
       "    </tr>\n",
       "    <tr>\n",
       "      <th>742</th>\n",
       "      <td>Wabash Ave &amp; Grand Ave</td>\n",
       "      <td>30774</td>\n",
       "    </tr>\n",
       "  </tbody>\n",
       "</table>\n",
       "</div>"
      ],
      "text/plain": [
       "          start_station_name  ride_id\n",
       "707  Streeter Dr & Grand Ave    78820\n",
       "511    Michigan Ave & Oak St    43058\n",
       "754    Wells St & Concord Ln    40717\n",
       "517          Millennium Park    39898\n",
       "148        Clark St & Elm St    39083\n",
       "710      Theater on the Lake    36975\n",
       "755        Wells St & Elm St    35181\n",
       "155   Clark St & Lincoln Ave    31885\n",
       "142  Clark St & Armitage Ave    31490\n",
       "742   Wabash Ave & Grand Ave    30774"
      ]
     },
     "execution_count": 59,
     "metadata": {},
     "output_type": "execute_result"
    }
   ],
   "source": [
    "# Top 10 ride strating stations\n",
    "\n",
    "top_stn = trip_share.groupby('start_station_name', as_index=False)['ride_id'].count().sort_values('ride_id', ascending = False)\n",
    "top_stn.head(10)"
   ]
  },
  {
   "cell_type": "code",
   "execution_count": 60,
   "id": "37ceccbd",
   "metadata": {
    "scrolled": true
   },
   "outputs": [
    {
     "data": {
      "text/html": [
       "<div>\n",
       "<style scoped>\n",
       "    .dataframe tbody tr th:only-of-type {\n",
       "        vertical-align: middle;\n",
       "    }\n",
       "\n",
       "    .dataframe tbody tr th {\n",
       "        vertical-align: top;\n",
       "    }\n",
       "\n",
       "    .dataframe thead th {\n",
       "        text-align: right;\n",
       "    }\n",
       "</style>\n",
       "<table border=\"1\" class=\"dataframe\">\n",
       "  <thead>\n",
       "    <tr style=\"text-align: right;\">\n",
       "      <th></th>\n",
       "      <th>member_casual</th>\n",
       "      <th>ride_duration</th>\n",
       "    </tr>\n",
       "  </thead>\n",
       "  <tbody>\n",
       "    <tr>\n",
       "      <th>0</th>\n",
       "      <td>casual</td>\n",
       "      <td>32.21</td>\n",
       "    </tr>\n",
       "    <tr>\n",
       "      <th>1</th>\n",
       "      <td>member</td>\n",
       "      <td>10.46</td>\n",
       "    </tr>\n",
       "  </tbody>\n",
       "</table>\n",
       "</div>"
      ],
      "text/plain": [
       "  member_casual  ride_duration\n",
       "0        casual          32.21\n",
       "1        member          10.46"
      ]
     },
     "execution_count": 60,
     "metadata": {},
     "output_type": "execute_result"
    }
   ],
   "source": [
    "# Average ride time\n",
    "\n",
    "avg_ride_length = round(trip_share.groupby('member_casual', as_index=False)['ride_duration'].mean(),2)\n",
    "avg_ride_length"
   ]
  },
  {
   "cell_type": "code",
   "execution_count": 61,
   "id": "8b635147",
   "metadata": {},
   "outputs": [
    {
     "data": {
      "text/plain": [
       "55944.2"
      ]
     },
     "execution_count": 61,
     "metadata": {},
     "output_type": "execute_result"
    }
   ],
   "source": [
    "a = trip_share['ride_duration'].max()\n",
    "a"
   ]
  },
  {
   "cell_type": "code",
   "execution_count": 62,
   "id": "81ef2a02",
   "metadata": {
    "scrolled": true
   },
   "outputs": [
    {
     "data": {
      "text/html": [
       "<div>\n",
       "<style scoped>\n",
       "    .dataframe tbody tr th:only-of-type {\n",
       "        vertical-align: middle;\n",
       "    }\n",
       "\n",
       "    .dataframe tbody tr th {\n",
       "        vertical-align: top;\n",
       "    }\n",
       "\n",
       "    .dataframe thead th {\n",
       "        text-align: right;\n",
       "    }\n",
       "</style>\n",
       "<table border=\"1\" class=\"dataframe\">\n",
       "  <thead>\n",
       "    <tr style=\"text-align: right;\">\n",
       "      <th></th>\n",
       "      <th>member_casual</th>\n",
       "      <th>ride_duration</th>\n",
       "    </tr>\n",
       "  </thead>\n",
       "  <tbody>\n",
       "    <tr>\n",
       "      <th>0</th>\n",
       "      <td>casual</td>\n",
       "      <td>55944.2</td>\n",
       "    </tr>\n",
       "    <tr>\n",
       "      <th>1</th>\n",
       "      <td>member</td>\n",
       "      <td>1499.9</td>\n",
       "    </tr>\n",
       "  </tbody>\n",
       "</table>\n",
       "</div>"
      ],
      "text/plain": [
       "  member_casual  ride_duration\n",
       "0        casual        55944.2\n",
       "1        member         1499.9"
      ]
     },
     "execution_count": 62,
     "metadata": {},
     "output_type": "execute_result"
    }
   ],
   "source": [
    "max_length = trip_share.groupby('member_casual', as_index=False)['ride_duration'].max()\n",
    "max_length"
   ]
  },
  {
   "cell_type": "code",
   "execution_count": 63,
   "id": "e9f62ca6",
   "metadata": {},
   "outputs": [],
   "source": [
    "# Average ride length of users by day of the week"
   ]
  },
  {
   "cell_type": "code",
   "execution_count": 64,
   "id": "ea8cbf7c",
   "metadata": {},
   "outputs": [
    {
     "data": {
      "text/html": [
       "<div>\n",
       "<style scoped>\n",
       "    .dataframe tbody tr th:only-of-type {\n",
       "        vertical-align: middle;\n",
       "    }\n",
       "\n",
       "    .dataframe tbody tr th {\n",
       "        vertical-align: top;\n",
       "    }\n",
       "\n",
       "    .dataframe thead th {\n",
       "        text-align: right;\n",
       "    }\n",
       "</style>\n",
       "<table border=\"1\" class=\"dataframe\">\n",
       "  <thead>\n",
       "    <tr style=\"text-align: right;\">\n",
       "      <th></th>\n",
       "      <th>Day</th>\n",
       "      <th>ride_duration</th>\n",
       "    </tr>\n",
       "  </thead>\n",
       "  <tbody>\n",
       "    <tr>\n",
       "      <th>0</th>\n",
       "      <td>Monday</td>\n",
       "      <td>21.05</td>\n",
       "    </tr>\n",
       "    <tr>\n",
       "      <th>1</th>\n",
       "      <td>Tuesday</td>\n",
       "      <td>3.16</td>\n",
       "    </tr>\n",
       "    <tr>\n",
       "      <th>2</th>\n",
       "      <td>Wednesday</td>\n",
       "      <td>18.44</td>\n",
       "    </tr>\n",
       "    <tr>\n",
       "      <th>3</th>\n",
       "      <td>Thursday</td>\n",
       "      <td>18.62</td>\n",
       "    </tr>\n",
       "    <tr>\n",
       "      <th>4</th>\n",
       "      <td>Friday</td>\n",
       "      <td>21.25</td>\n",
       "    </tr>\n",
       "    <tr>\n",
       "      <th>5</th>\n",
       "      <td>Saturday</td>\n",
       "      <td>26.66</td>\n",
       "    </tr>\n",
       "    <tr>\n",
       "      <th>6</th>\n",
       "      <td>Sunday</td>\n",
       "      <td>28.28</td>\n",
       "    </tr>\n",
       "  </tbody>\n",
       "</table>\n",
       "</div>"
      ],
      "text/plain": [
       "         Day  ride_duration\n",
       "0     Monday          21.05\n",
       "1    Tuesday           3.16\n",
       "2  Wednesday          18.44\n",
       "3   Thursday          18.62\n",
       "4     Friday          21.25\n",
       "5   Saturday          26.66\n",
       "6     Sunday          28.28"
      ]
     },
     "execution_count": 64,
     "metadata": {},
     "output_type": "execute_result"
    }
   ],
   "source": [
    "avg_day = round(trip_share.groupby('Day', as_index=False)['ride_duration'].mean(),2)\n",
    "\n",
    "avg_day = avg_day.sort_values('Day')\n",
    "\n",
    "avg_day"
   ]
  },
  {
   "cell_type": "code",
   "execution_count": 65,
   "id": "1c548007",
   "metadata": {},
   "outputs": [],
   "source": [
    "# Number of rides for users by day_of_week"
   ]
  },
  {
   "cell_type": "code",
   "execution_count": 66,
   "id": "559b12e6",
   "metadata": {},
   "outputs": [
    {
     "data": {
      "text/html": [
       "<div>\n",
       "<style scoped>\n",
       "    .dataframe tbody tr th:only-of-type {\n",
       "        vertical-align: middle;\n",
       "    }\n",
       "\n",
       "    .dataframe tbody tr th {\n",
       "        vertical-align: top;\n",
       "    }\n",
       "\n",
       "    .dataframe thead th {\n",
       "        text-align: right;\n",
       "    }\n",
       "</style>\n",
       "<table border=\"1\" class=\"dataframe\">\n",
       "  <thead>\n",
       "    <tr style=\"text-align: right;\">\n",
       "      <th></th>\n",
       "      <th>Day</th>\n",
       "      <th>ride_id</th>\n",
       "    </tr>\n",
       "  </thead>\n",
       "  <tbody>\n",
       "    <tr>\n",
       "      <th>0</th>\n",
       "      <td>Monday</td>\n",
       "      <td>559714</td>\n",
       "    </tr>\n",
       "    <tr>\n",
       "      <th>1</th>\n",
       "      <td>Tuesday</td>\n",
       "      <td>578518</td>\n",
       "    </tr>\n",
       "    <tr>\n",
       "      <th>2</th>\n",
       "      <td>Wednesday</td>\n",
       "      <td>592023</td>\n",
       "    </tr>\n",
       "    <tr>\n",
       "      <th>3</th>\n",
       "      <td>Thursday</td>\n",
       "      <td>581860</td>\n",
       "    </tr>\n",
       "    <tr>\n",
       "      <th>4</th>\n",
       "      <td>Friday</td>\n",
       "      <td>643764</td>\n",
       "    </tr>\n",
       "    <tr>\n",
       "      <th>5</th>\n",
       "      <td>Saturday</td>\n",
       "      <td>822416</td>\n",
       "    </tr>\n",
       "    <tr>\n",
       "      <th>6</th>\n",
       "      <td>Sunday</td>\n",
       "      <td>714432</td>\n",
       "    </tr>\n",
       "  </tbody>\n",
       "</table>\n",
       "</div>"
      ],
      "text/plain": [
       "         Day  ride_id\n",
       "0     Monday   559714\n",
       "1    Tuesday   578518\n",
       "2  Wednesday   592023\n",
       "3   Thursday   581860\n",
       "4     Friday   643764\n",
       "5   Saturday   822416\n",
       "6     Sunday   714432"
      ]
     },
     "execution_count": 66,
     "metadata": {},
     "output_type": "execute_result"
    }
   ],
   "source": [
    "count_rides_day = trip_share.groupby('Day', as_index=False)['ride_id'].count()\n",
    "count_rides_day"
   ]
  },
  {
   "cell_type": "code",
   "execution_count": 67,
   "id": "a687e41a",
   "metadata": {},
   "outputs": [],
   "source": [
    "# Insights\n",
    "\n",
    "#Member riders have annual memberships because their frequency of bike usage is higher. They use it for daily commute of shorter distance.\n",
    "\n",
    "#Casual riders more often use bikes for leisure or personal activities. Their usage is higher on weekends.\n",
    "\n",
    "#Summer months are more popular and business can focus on this period to maximise its profit.\n",
    "\n",
    "#Special 'Summer Membership' can be introduced specifically for casual riders who're hesitant to go for annual membership.\n",
    "\n",
    "#Coupons, Discounts schemes can be introduced for casual riders to increase their bike usage on weekdays or small distance journeys.\n",
    "\n",
    "#It is important for business to develop the idea of using bikes regulary than just for leisure activities in casual riders."
   ]
  }
 ],
 "metadata": {
  "kernelspec": {
   "display_name": "Python 3 (ipykernel)",
   "language": "python",
   "name": "python3"
  },
  "language_info": {
   "codemirror_mode": {
    "name": "ipython",
    "version": 3
   },
   "file_extension": ".py",
   "mimetype": "text/x-python",
   "name": "python",
   "nbconvert_exporter": "python",
   "pygments_lexer": "ipython3",
   "version": "3.10.1"
  }
 },
 "nbformat": 4,
 "nbformat_minor": 5
}
